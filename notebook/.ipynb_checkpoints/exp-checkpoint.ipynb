{
 "cells": [
  {
   "cell_type": "code",
   "execution_count": 16,
   "metadata": {
    "scrolled": true
   },
   "outputs": [
    {
     "name": "stdout",
     "output_type": "stream",
     "text": [
      "top.ev\r\n",
      "top.ma\r\n"
     ]
    }
   ],
   "source": [
    "MODELS_PATH = '../model/'\n",
    "!ls -1 $MODELS_PATH"
   ]
  },
  {
   "cell_type": "code",
   "execution_count": 17,
   "metadata": {},
   "outputs": [],
   "source": [
    "def replaceParams (content, params):\n",
    "    new_content = content\n",
    "    for param, value in params.items():\n",
    "        search = r'{} : .*'.format(param)\n",
    "        replace = r'{} : {}'.format(param, value)\n",
    "        new_content = re.sub(search, replace, new_content, flags = re.M)\n",
    "    return new_content\n",
    "\n",
    "def run_simulation(sim_path, params, top_model_content, simulation_args):\n",
    "    # acomodo paths dentro de la carpeta de la simulacion\n",
    "    time = simulation_args['time']\n",
    "    logs_path = sim_path + simulation_args['logs_rel_path']\n",
    "    output_path = sim_path + simulation_args['output_rel_path'] + 'output'\n",
    "    stdout_path = sim_path + simulation_args['stdout_rel_path'] + 'stdout'\n",
    "    top_model_path = sim_path + simulation_args['model_rel_path']\n",
    "\n",
    "    # creo carpeta de simulacion\n",
    "    ! mkdir {sim_path} {logs_path}\n",
    "    \n",
    "    # genero top_model con los params reemplazados\n",
    "    new_top_model_content = replaceParams(top_model_content, params)\n",
    "    with open (top_model_path, 'a' ) as f:\n",
    "        f.write(new_top_model_content)\n",
    "    \n",
    "    # ejecuto simu\n",
    "    !../src/bin/cd++ -m {top_model_path} -t {time} -l {logs_path} -o {output_path} > {stdout_path}  "
   ]
  },
  {
   "cell_type": "code",
   "execution_count": 18,
   "metadata": {},
   "outputs": [
    {
     "name": "stdout",
     "output_type": "stream",
     "text": [
      "{'tolerance': 4} Running simulation\n",
      "sim-tol-4/top.ma\n",
      "0\n",
      "sim-tol-4/./output\n",
      "sim-tol-4/./stdout\n",
      "{'tolerance': 8} Running simulation\n",
      "sim-tol-8/top.ma\n",
      "0\n",
      "sim-tol-8/./output\n",
      "sim-tol-8/./stdout\n",
      "{'tolerance': 12} Running simulation\n",
      "sim-tol-12/top.ma\n",
      "0\n",
      "sim-tol-12/./output\n",
      "sim-tol-12/./stdout\n",
      "At 00:36:42:000:0\r"
     ]
    }
   ],
   "source": [
    "import re\n",
    "\n",
    "# abro el top model\n",
    "with open (MODELS_PATH + 'top.ma', 'r' ) as f:\n",
    "    top_model_content = f.read()\n",
    "\n",
    "# borro las simulaciones previamente corridas    \n",
    "!ls | grep sim | xargs rm -rf\n",
    "\n",
    "# corro nuevas simulaciones\n",
    "for tolerance in [4, 8, 12]:\n",
    "        sim_path = 'sim-tol-{}/'.format(tolerance)\n",
    "\n",
    "        params_to_replace = {'tolerance': tolerance}\n",
    "        simulation_args = {'time': '0', # '00:05:000:0'\n",
    "                           'model_rel_path': 'top.ma', \n",
    "                           'logs_rel_path': 'logs/',\n",
    "                           'output_rel_path': './',\n",
    "                           'stdout_rel_path': './'}\n",
    "        print (\"{} Running simulation\".format(params_to_replace))\n",
    "        run_simulation(sim_path, params_to_replace, top_model_content, simulation_args)\n",
    "\n"
   ]
  }
 ],
 "metadata": {
  "kernelspec": {
   "display_name": "Python 3",
   "language": "python",
   "name": "python3"
  },
  "language_info": {
   "codemirror_mode": {
    "name": "ipython",
    "version": 3
   },
   "file_extension": ".py",
   "mimetype": "text/x-python",
   "name": "python",
   "nbconvert_exporter": "python",
   "pygments_lexer": "ipython3",
   "version": "3.7.3"
  }
 },
 "nbformat": 4,
 "nbformat_minor": 2
}
