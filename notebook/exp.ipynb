{
 "cells": [
  {
   "cell_type": "code",
   "execution_count": 1,
   "metadata": {
    "scrolled": true
   },
   "outputs": [
    {
     "name": "stdout",
     "output_type": "stream",
     "text": [
      "top.ev\r\n",
      "top.ma\r\n"
     ]
    }
   ],
   "source": [
    "MODELS_PATH = '../model/'\n",
    "!ls -1 $MODELS_PATH"
   ]
  },
  {
   "cell_type": "code",
   "execution_count": 54,
   "metadata": {},
   "outputs": [],
   "source": [
    "def replaceParams (content, params):\n",
    "    new_content = content\n",
    "    for param, value in params.items():\n",
    "        search = r'{} : .*'.format(param)\n",
    "        replace = r'{} : {}'.format(param, value)\n",
    "        new_content = re.sub(search, replace, new_content, flags = re.M)\n",
    "    return new_content\n",
    "\n",
    "def run_simulation(sim_path, params, top_model_content, simulation_args):\n",
    "    # acomodo paths dentro de la carpeta de la simulacion\n",
    "    time = simulation_args['time']\n",
    "    logs_path = sim_path + simulation_args['logs_rel_path']\n",
    "    output_path = sim_path + simulation_args['output_rel_path'] + 'output'\n",
    "    stdout_path = sim_path + simulation_args['stdout_rel_path'] + 'stdout'\n",
    "    top_model_path = sim_path + simulation_args['model_rel_path']\n",
    "\n",
    "    # creo carpeta de simulacion\n",
    "    ! mkdir {sim_path} {logs_path}\n",
    "    \n",
    "    # genero top_model con los params reemplazados\n",
    "    new_top_model_content = replaceParams(top_model_content, params)\n",
    "    with open (top_model_path, 'a' ) as f:\n",
    "        f.write(new_top_model_content)\n",
    "    \n",
    "    # ejecuto simu\n",
    "    !../src/bin/cd++ -m {top_model_path} -t {time} -l {logs_path} -o {output_path} > {stdout_path}  "
   ]
  },
  {
   "cell_type": "code",
   "execution_count": 59,
   "metadata": {},
   "outputs": [
    {
     "name": "stdout",
     "output_type": "stream",
     "text": [
      "{'consumption_factor': 0.1, 'conversion_factor': 0.4} Running simulation\n",
      "{'consumption_factor': 0.1, 'conversion_factor': 0.5} Running simulation\n",
      "{'consumption_factor': 0.2, 'conversion_factor': 0.4} Running simulation\n",
      "{'consumption_factor': 0.2, 'conversion_factor': 0.5} Running simulation\n",
      "At 00:05:00:000:0\r"
     ]
    }
   ],
   "source": [
    "import re\n",
    "\n",
    "# abro el top model\n",
    "with open (MODELS_PATH + 'top.ma', 'r' ) as f:\n",
    "    top_model_content = f.read()\n",
    "\n",
    "# borro las simulaciones previamente corridas    \n",
    "!ls | grep sim | xargs rm -rf\n",
    "\n",
    "# corro nuevas simulaciones\n",
    "for consumption_factor in [0.1, 0.2]:\n",
    "    for conversion_factor in [0.4, 0.5]:\n",
    "        sim_path = 'sim-cons-{}-conv-{}/'.format(consumption_factor, conversion_factor)\n",
    "\n",
    "        params_to_replace = {'consumption_factor': consumption_factor,\n",
    "                             'conversion_factor': conversion_factor}\n",
    "        simulation_args = {'time': '00:05:000:0',\n",
    "                           'model_rel_path': 'top.ma', \n",
    "                           'logs_rel_path': 'logs/',\n",
    "                           'output_rel_path': './',\n",
    "                           'stdout_rel_path': './'}\n",
    "        print (\"{} Running simulation\".format(params_to_replace))\n",
    "        run_simulation(sim_path, params_to_replace, top_model_content, simulation_args)\n",
    "\n"
   ]
  }
 ],
 "metadata": {
  "kernelspec": {
   "display_name": "Python 3",
   "language": "python",
   "name": "python3"
  },
  "language_info": {
   "codemirror_mode": {
    "name": "ipython",
    "version": 3
   },
   "file_extension": ".py",
   "mimetype": "text/x-python",
   "name": "python",
   "nbconvert_exporter": "python",
   "pygments_lexer": "ipython3",
   "version": "3.7.3"
  }
 },
 "nbformat": 4,
 "nbformat_minor": 2
}
